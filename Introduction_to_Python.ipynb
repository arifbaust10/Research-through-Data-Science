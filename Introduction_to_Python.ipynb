{
  "nbformat": 4,
  "nbformat_minor": 0,
  "metadata": {
    "colab": {
      "provenance": [],
      "toc_visible": true,
      "include_colab_link": true
    },
    "kernelspec": {
      "name": "python3",
      "display_name": "Python 3"
    },
    "language_info": {
      "name": "python"
    }
  },
  "cells": [
    {
      "cell_type": "markdown",
      "metadata": {
        "id": "view-in-github",
        "colab_type": "text"
      },
      "source": [
        "<a href=\"https://colab.research.google.com/github/arifbaust10/Research-through-Data-Science/blob/main/Introduction_to_Python.ipynb\" target=\"_parent\"><img src=\"https://colab.research.google.com/assets/colab-badge.svg\" alt=\"Open In Colab\"/></a>"
      ]
    },
    {
      "cell_type": "markdown",
      "source": [
        "# **Variables**\n"
      ],
      "metadata": {
        "id": "tvToUsQ7P0r7"
      }
    },
    {
      "cell_type": "markdown",
      "source": [
        "## Question 2.1: Create variables for your name, age, and favorite color, then print them with descriptive labels."
      ],
      "metadata": {
        "id": "D8my8A9BQex6"
      }
    },
    {
      "cell_type": "code",
      "source": [
        "name = \"Md. Ariful Islam\"\n",
        "age = 25\n",
        "favorite_color = \"Black\"\n",
        "\n",
        "print(\"Name:\", name)\n",
        "print(\"Age:\", age)\n",
        "print(\"Favorite Color:\", favorite_color)"
      ],
      "metadata": {
        "colab": {
          "base_uri": "https://localhost:8080/"
        },
        "id": "pNT5sHvyQFS-",
        "outputId": "fe49f688-69c5-418e-99c2-995c797d7d02"
      },
      "execution_count": null,
      "outputs": [
        {
          "output_type": "stream",
          "name": "stdout",
          "text": [
            "Name: Md. Ariful Islam\n",
            "Age: 25\n",
            "Favorite Color: Black\n"
          ]
        }
      ]
    },
    {
      "cell_type": "code",
      "source": [],
      "metadata": {
        "id": "dUDPWFeiRW-B"
      },
      "execution_count": null,
      "outputs": []
    },
    {
      "cell_type": "markdown",
      "source": [
        "# Data Types"
      ],
      "metadata": {
        "id": "iuCIQG_oRc4F"
      }
    },
    {
      "cell_type": "markdown",
      "source": [
        "## Question 2.2: Create one variable of each type and use the type() function to verify its type.\n"
      ],
      "metadata": {
        "id": "P-iyJC1DRJqi"
      }
    },
    {
      "cell_type": "code",
      "source": [
        "id = 37\n",
        "name = \"Md. Ariful Islam\"\n",
        "age = 25\n",
        "is_student = True\n",
        "address = \"Naogaon\"\n",
        "\n",
        "print(type(id))\n",
        "print(type(name))\n",
        "print(type(age))\n",
        "print(type(is_student))\n",
        "print(type(address))"
      ],
      "metadata": {
        "colab": {
          "base_uri": "https://localhost:8080/"
        },
        "id": "jW-8uQkyRe_G",
        "outputId": "b4d9732a-e0fd-49c4-de8f-943183f41377"
      },
      "execution_count": null,
      "outputs": [
        {
          "output_type": "stream",
          "name": "stdout",
          "text": [
            "<class 'int'>\n",
            "<class 'str'>\n",
            "<class 'int'>\n",
            "<class 'bool'>\n",
            "<class 'str'>\n"
          ]
        }
      ]
    },
    {
      "cell_type": "code",
      "source": [],
      "metadata": {
        "id": "xErc7wmLSOnm"
      },
      "execution_count": null,
      "outputs": []
    },
    {
      "cell_type": "markdown",
      "source": [
        "# Basic Operations"
      ],
      "metadata": {
        "id": "NyYXutUHSWGk"
      }
    },
    {
      "cell_type": "markdown",
      "source": [
        "## Question 2.3: Calculate the area and perimeter of a rectangle with length 7 and width 5."
      ],
      "metadata": {
        "id": "15Hp0LuvShvB"
      }
    },
    {
      "cell_type": "code",
      "source": [
        "length = 7\n",
        "width = 5\n",
        "\n",
        "area = length * width\n",
        "perimeter = 2 * (length + width)\n",
        "\n",
        "print(\"Area:\", area)\n",
        "print(\"Perimeter:\", perimeter)"
      ],
      "metadata": {
        "colab": {
          "base_uri": "https://localhost:8080/"
        },
        "id": "LaykmlWqSj1O",
        "outputId": "db11a35d-a9a0-458b-c3c1-40601c76437c"
      },
      "execution_count": null,
      "outputs": [
        {
          "output_type": "stream",
          "name": "stdout",
          "text": [
            "Area: 35\n",
            "Perimeter: 24\n"
          ]
        }
      ]
    },
    {
      "cell_type": "code",
      "source": [],
      "metadata": {
        "id": "cNLz51KgTCt5"
      },
      "execution_count": null,
      "outputs": []
    },
    {
      "cell_type": "markdown",
      "source": [
        "# Data Collections: Lists"
      ],
      "metadata": {
        "id": "h1vD0NNsTPuJ"
      }
    },
    {
      "cell_type": "markdown",
      "source": [
        "## Question 2.4: Create a list of 5 Bangladeshi foods, then access the first and last elements."
      ],
      "metadata": {
        "id": "Lz-7W-gFTUds"
      }
    },
    {
      "cell_type": "code",
      "source": [
        "foods = [\"apple\",\"banana\",\"orange\",\"mango\",\"pineapple\"]\n",
        "first_element = foods[0]\n",
        "last_element = foods[-1]\n",
        "\n",
        "print(\"First Element:\", first_element)\n",
        "print(\"Last Element:\", last_element)"
      ],
      "metadata": {
        "colab": {
          "base_uri": "https://localhost:8080/"
        },
        "id": "lupLH68rTUH_",
        "outputId": "6d39b9e8-cfbc-4221-f3f1-698babce2ae2"
      },
      "execution_count": null,
      "outputs": [
        {
          "output_type": "stream",
          "name": "stdout",
          "text": [
            "First Element: apple\n",
            "Last Element: pineapple\n"
          ]
        }
      ]
    },
    {
      "cell_type": "code",
      "source": [],
      "metadata": {
        "id": "VtB69jmlU9AC"
      },
      "execution_count": null,
      "outputs": []
    },
    {
      "cell_type": "markdown",
      "source": [
        "## Question 2.5: Create a list of 5 numbers, add a new number, remove one, and then sort the list."
      ],
      "metadata": {
        "id": "DmPpbJMvVRnI"
      }
    },
    {
      "cell_type": "code",
      "source": [
        "list = [33,21,432,342,221]\n",
        "list.append(23)\n",
        "list.pop()\n",
        "list.sort()\n",
        "\n",
        "print(list)"
      ],
      "metadata": {
        "colab": {
          "base_uri": "https://localhost:8080/"
        },
        "id": "sXUPuStrVYDg",
        "outputId": "1cdaaa6c-b5a2-4f9c-aa22-5befd8da24db"
      },
      "execution_count": null,
      "outputs": [
        {
          "output_type": "stream",
          "name": "stdout",
          "text": [
            "[21, 33, 221, 342, 432]\n"
          ]
        }
      ]
    },
    {
      "cell_type": "code",
      "source": [
        "list = [33,21,432,342,221]\n",
        "list.insert(2,23)\n",
        "list.remove(21)\n",
        "list.reverse()\n",
        "\n",
        "print(list)"
      ],
      "metadata": {
        "colab": {
          "base_uri": "https://localhost:8080/"
        },
        "id": "ovFxusg9V9iz",
        "outputId": "7e948bb8-bd98-40fa-dc65-92b0b02d0732"
      },
      "execution_count": null,
      "outputs": [
        {
          "output_type": "stream",
          "name": "stdout",
          "text": [
            "[221, 342, 432, 23, 33]\n"
          ]
        }
      ]
    },
    {
      "cell_type": "code",
      "source": [],
      "metadata": {
        "id": "TGT4Q5ScWEe5"
      },
      "execution_count": null,
      "outputs": []
    },
    {
      "cell_type": "markdown",
      "source": [
        "# Data Collections: Dictionaries"
      ],
      "metadata": {
        "id": "aSUtniqKWRg3"
      }
    },
    {
      "cell_type": "markdown",
      "source": [
        "## Question 2.6: Create a dictionary about yourself with at least 4 key-value pairs."
      ],
      "metadata": {
        "id": "tCW2N4YsWoLv"
      }
    },
    {
      "cell_type": "code",
      "source": [
        "myself = {\n",
        "    \"name\" : \"Md. Ariful Islam\",\n",
        "    \"University\" : \"BAUST\",\n",
        "    \"Department\" : \"CSE\",\n",
        "    \"Level of Study\" : \"4th Year\",\n",
        "    \"Age\" : 25\n",
        " }\n",
        "\n",
        "print(\n",
        "    f\"I am {myself['name']}, University of {myself['University']}, \"\n",
        "    f\"Department of {myself['Department']}, {myself['Level of Study']} student, \"\n",
        "    f\"Age is {myself['Age']}\"\n",
        ")"
      ],
      "metadata": {
        "colab": {
          "base_uri": "https://localhost:8080/"
        },
        "id": "kYCApTTkWtm9",
        "outputId": "460cc055-6406-4eea-e513-da3528615b05"
      },
      "execution_count": null,
      "outputs": [
        {
          "output_type": "stream",
          "name": "stdout",
          "text": [
            "I am Md. Ariful Islam, University of BAUST, Department of CSE, 4th Year student, Age is 25\n"
          ]
        }
      ]
    },
    {
      "cell_type": "code",
      "source": [],
      "metadata": {
        "id": "WxgKyU0zYcKx"
      },
      "execution_count": null,
      "outputs": []
    },
    {
      "cell_type": "markdown",
      "source": [
        "# Data Collections: Tuples"
      ],
      "metadata": {
        "id": "oDtCJ4-OY8Ay"
      }
    },
    {
      "cell_type": "markdown",
      "source": [
        "## Question 2.7: Create a tuple with the latitude and longitude of a famous place in Bangladesh."
      ],
      "metadata": {
        "id": "dRcSwsQMY_qH"
      }
    },
    {
      "cell_type": "code",
      "source": [
        "famouns_place = (\"Cox's Bazar\", 21.4272, 92.0000)\n",
        "print(famouns_place)"
      ],
      "metadata": {
        "colab": {
          "base_uri": "https://localhost:8080/"
        },
        "id": "74RBCA1yZH7d",
        "outputId": "40df1533-ddfd-4923-dfee-9e5831107efa"
      },
      "execution_count": null,
      "outputs": [
        {
          "output_type": "stream",
          "name": "stdout",
          "text": [
            "(\"Cox's Bazar\", 21.4272, 92.0)\n"
          ]
        }
      ]
    },
    {
      "cell_type": "code",
      "source": [],
      "metadata": {
        "id": "CnsMr7UaZehy"
      },
      "execution_count": null,
      "outputs": []
    },
    {
      "cell_type": "markdown",
      "source": [
        "# Data Collections: Sets"
      ],
      "metadata": {
        "id": "66870kxYaUma"
      }
    },
    {
      "cell_type": "markdown",
      "source": [
        "## Question 2.8: Create two sets of colors and find their union and intersection."
      ],
      "metadata": {
        "id": "1M70ZX4XaWv7"
      }
    },
    {
      "cell_type": "code",
      "source": [
        "color_1 = {\"red\", \"green\", \"blue\"}\n",
        "color_2 = {\"yellow\", \"green\", \"purple\"}\n",
        "\n",
        "union = color_1 | color_2\n",
        "intersection = color_1 & color_2\n",
        "print(\"Union:\", union)\n",
        "print(\"Intersection:\", intersection)"
      ],
      "metadata": {
        "colab": {
          "base_uri": "https://localhost:8080/"
        },
        "id": "uQ_jKQtjahKS",
        "outputId": "55639059-81da-4617-ba5d-3ea1a569aeaf"
      },
      "execution_count": null,
      "outputs": [
        {
          "output_type": "stream",
          "name": "stdout",
          "text": [
            "Union: {'blue', 'red', 'purple', 'yellow', 'green'}\n",
            "Intersection: {'green'}\n"
          ]
        }
      ]
    },
    {
      "cell_type": "code",
      "source": [],
      "metadata": {
        "id": "poElVvKtbEEl"
      },
      "execution_count": null,
      "outputs": []
    },
    {
      "cell_type": "markdown",
      "source": [
        "# Control Structures: If-Else Statements"
      ],
      "metadata": {
        "id": "JonTXCRfczd2"
      }
    },
    {
      "cell_type": "markdown",
      "source": [
        "## Question 2.9: Write a program that checks if a number is positive, negative, or zero."
      ],
      "metadata": {
        "id": "jzCGRBL8c1pR"
      }
    },
    {
      "cell_type": "code",
      "source": [
        "number = 37\n",
        "if number>0:\n",
        "  print(number,\" is positive\")\n",
        "elif number<0:\n",
        "  print(number,\" is negative\")\n",
        "else:\n",
        "  print(number,\" is zero\")"
      ],
      "metadata": {
        "colab": {
          "base_uri": "https://localhost:8080/"
        },
        "id": "ays1-cMJc_-2",
        "outputId": "c823d997-fcc5-425e-981e-6634743b43bb"
      },
      "execution_count": null,
      "outputs": [
        {
          "output_type": "stream",
          "name": "stdout",
          "text": [
            "37  is positive\n"
          ]
        }
      ]
    },
    {
      "cell_type": "markdown",
      "source": [
        "## Question 2.10: Write a program that checks eligibility for a discount (student AND under 25, OR senior over 60)."
      ],
      "metadata": {
        "id": "OGqDa7jWdqY8"
      }
    },
    {
      "cell_type": "code",
      "source": [
        "age = 25\n",
        "designation = \"student\"\n",
        "if designation == \"student\":\n",
        "  if age<25:\n",
        "    print(\"You are eligible for discount\")\n",
        "  else:\n",
        "    print(\"You are not eligible for discount\")\n",
        "elif designation == \"senior\":\n",
        "  if age>60:\n",
        "    print(\"You are eligible for discount\")\n",
        "  else:\n",
        "    print(\"You are not eligible for discount\")\n"
      ],
      "metadata": {
        "colab": {
          "base_uri": "https://localhost:8080/"
        },
        "id": "tC3TlU74dukJ",
        "outputId": "06105022-1125-46e2-e5ad-b6803caaf06d"
      },
      "execution_count": null,
      "outputs": [
        {
          "output_type": "stream",
          "name": "stdout",
          "text": [
            "You are not eligible for discount\n"
          ]
        }
      ]
    },
    {
      "cell_type": "code",
      "source": [],
      "metadata": {
        "id": "skoE_G1YebPQ"
      },
      "execution_count": null,
      "outputs": []
    },
    {
      "cell_type": "markdown",
      "source": [
        "# Control Structures: Loops"
      ],
      "metadata": {
        "id": "JBoqv-p5fRvN"
      }
    },
    {
      "cell_type": "markdown",
      "source": [
        "## Question 2.11: Write a program that prints the first 10 even numbers using a for or while loop."
      ],
      "metadata": {
        "id": "qS2bsuX_fX5M"
      }
    },
    {
      "cell_type": "code",
      "source": [
        "i = 2\n",
        "c = 0\n",
        "while True:\n",
        "  if i%2==0:\n",
        "    c += 1\n",
        "    print(i,\" \")\n",
        "  if c==10:\n",
        "    break\n",
        "  i += 1"
      ],
      "metadata": {
        "colab": {
          "base_uri": "https://localhost:8080/"
        },
        "id": "wKQZoFz8feq3",
        "outputId": "ce8f552c-a402-4daf-8d30-2e1d7b2592b5"
      },
      "execution_count": null,
      "outputs": [
        {
          "output_type": "stream",
          "name": "stdout",
          "text": [
            "2  \n",
            "4  \n",
            "6  \n",
            "8  \n",
            "10  \n",
            "12  \n",
            "14  \n",
            "16  \n",
            "18  \n",
            "20  \n"
          ]
        }
      ]
    },
    {
      "cell_type": "markdown",
      "source": [
        "## Question 2.12: Write a program that prints a simple number pyramid pattern using nested loops."
      ],
      "metadata": {
        "id": "tTaAhViRhxt_"
      }
    },
    {
      "cell_type": "code",
      "source": [
        "rows = 5\n",
        "\n",
        "for i in range(1, rows + 1):\n",
        "    for space in range(rows - i):\n",
        "        print(\" \", end=\"\")\n",
        "    for star in range(2*i - 1):\n",
        "        print(\"*\", end=\"\")\n",
        "    print()\n"
      ],
      "metadata": {
        "colab": {
          "base_uri": "https://localhost:8080/"
        },
        "id": "DqG8J9s2h2L4",
        "outputId": "e3b45bd5-a21f-450d-d00c-5181b3316ab9"
      },
      "execution_count": null,
      "outputs": [
        {
          "output_type": "stream",
          "name": "stdout",
          "text": [
            "    *\n",
            "   ***\n",
            "  *****\n",
            " *******\n",
            "*********\n"
          ]
        }
      ]
    },
    {
      "cell_type": "code",
      "source": [],
      "metadata": {
        "id": "H8Vw6djBiQTV"
      },
      "execution_count": null,
      "outputs": []
    },
    {
      "cell_type": "markdown",
      "source": [
        "# Functions: Basics"
      ],
      "metadata": {
        "id": "8V94fccYofdk"
      }
    },
    {
      "cell_type": "markdown",
      "source": [
        "## Question 2.13: Create a function that converts temperature from Celsius to Fahrenheit using the formula: F = (C × 9/5) + 32"
      ],
      "metadata": {
        "id": "Ay6lZhd3omCo"
      }
    },
    {
      "cell_type": "code",
      "source": [
        "def fahrenheit(c):\n",
        "  f = (c * 9/5) + 32\n",
        "  print(f\"{c}°C = {f}°F\")\n",
        "\n",
        "fahrenheit(100)"
      ],
      "metadata": {
        "colab": {
          "base_uri": "https://localhost:8080/"
        },
        "id": "0OKyesYDotEw",
        "outputId": "dc573379-53ea-48b1-c76a-1edd0b86829c"
      },
      "execution_count": null,
      "outputs": [
        {
          "output_type": "stream",
          "name": "stdout",
          "text": [
            "100°C = 212.0°F\n"
          ]
        }
      ]
    },
    {
      "cell_type": "markdown",
      "source": [
        "## Question 2.14 Create a function with default parameters that calculates the area of a rectangle."
      ],
      "metadata": {
        "id": "YeUh7ubMpB6L"
      }
    },
    {
      "cell_type": "code",
      "source": [
        "def area_of_rectangle(l=0, w=0):\n",
        "  print(l*w)\n",
        "\n",
        "area_of_rectangle(15,21)"
      ],
      "metadata": {
        "colab": {
          "base_uri": "https://localhost:8080/"
        },
        "id": "d74-qgjto3VM",
        "outputId": "7f27e947-fbaf-4298-9809-21d5027b4103"
      },
      "execution_count": null,
      "outputs": [
        {
          "output_type": "stream",
          "name": "stdout",
          "text": [
            "315\n"
          ]
        }
      ]
    },
    {
      "cell_type": "code",
      "source": [],
      "metadata": {
        "id": "ZQjR3jm6pikj"
      },
      "execution_count": null,
      "outputs": []
    }
  ]
}